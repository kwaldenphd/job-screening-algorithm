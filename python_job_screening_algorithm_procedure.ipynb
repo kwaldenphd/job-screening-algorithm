{
  "nbformat": 4,
  "nbformat_minor": 0,
  "metadata": {
    "colab": {
      "name": "python-job-screening-algorithm-procedure.ipynb",
      "provenance": [],
      "toc_visible": true,
      "authorship_tag": "ABX9TyPSp8TsyQb3tg1vWnSzUGEj",
      "include_colab_link": true
    },
    "kernelspec": {
      "name": "python3",
      "display_name": "Python 3"
    },
    "language_info": {
      "name": "python"
    }
  },
  "cells": [
    {
      "cell_type": "markdown",
      "metadata": {
        "id": "view-in-github",
        "colab_type": "text"
      },
      "source": [
        "<a href=\"https://colab.research.google.com/github/kwaldenphd/job-screening-algorithm/blob/main/python_job_screening_algorithm_procedure.ipynb\" target=\"_parent\"><img src=\"https://colab.research.google.com/assets/colab-badge.svg\" alt=\"Open In Colab\"/></a>"
      ]
    },
    {
      "cell_type": "markdown",
      "source": [
        "# Building a Job Screening Algorithm in Python\n",
        "\n",
        "<a href=\"http://creativecommons.org/licenses/by-nc/4.0/\" rel=\"license\"><img style=\"border-width: 0;\" src=\"https://i.creativecommons.org/l/by-nc/4.0/88x31.png\" alt=\"Creative Commons License\" /></a>\n",
        "This tutorial is licensed under a <a href=\"http://creativecommons.org/licenses/by-nc/4.0/\" rel=\"license\">Creative Commons Attribution-NonCommercial 4.0 International License</a>."
      ],
      "metadata": {
        "id": "8GHo4Khfcw2q"
      }
    },
    {
      "cell_type": "markdown",
      "source": [
        "## Acknowledgements\n",
        "\n",
        "This lab is based on Evan Peck's \"Ethical Design in CS 1: Building Hiring Algorithms\" module. \n",
        "- Evan Peck, \"[Ethical Design in CS 1: Building Hiring Algorithms in 1 Hour](https://medium.com/bucknell-hci/ethical-design-in-cs-1-building-hiring-algorithms-in-1-hour-41d8c913859f)\" *Bucknell HCI, Medium blog* (28 March 2018)\n",
        "- Evan Peck, \"[Ethical Hiring Algorithms](https://ethicalcs.github.io/modules/hiring/)\" *Ethical CS*\n",
        "\n",
        "It draws on [Lauren F. Klein](https://lklein.com/)'s lab implementation of Peck's exercise, developed for the Spring 2020 Emory University course [QTM 490 \"Feminist Data Science\"](https://github.com/laurenfklein/feminist-data-science).\n",
        "- [Jupyter notebook for lab activity](https://github.com/laurenfklein/feminist-data-science/blob/master/notebooks/lab1-hiring/Hiring-Filter-inclass.ipynb)"
      ],
      "metadata": {
        "id": "iApklAfTcycF"
      }
    },
    {
      "cell_type": "markdown",
      "source": [
        "# Lab Notebook Template\n",
        "\n",
        "[Click here](https://colab.research.google.com/drive/1Pi0h6-05vGShhnsU1cgkINPlIbmKlPXI?usp=sharing) to access lab notebook template as a Jupyter Notebook."
      ],
      "metadata": {
        "id": "shTZChibdITq"
      }
    },
    {
      "cell_type": "markdown",
      "source": [
        "# Data\n",
        "\n",
        "We'll be using randomly generated data for 10,000 applicants.\n",
        "\n",
        "This data is in the `allApps.py` file:\n",
        "  * [Click here](https://drive.google.com/file/d/1xNty5ic9Pb_3A4eGhGkQSJZm5qb6g8GX/view?usp=sharing) to download from Google Drive.\n",
        "\n",
        "If working with Jupyter Notebooks on your local computer, you'll need to move the `allApps.py` file into the same directory (folder) as the Jupyter Notebook.\n",
        "- Alternatively, you can provide the full file path.\n",
        "\n",
        "If working in Google CoLab, you'll either need to upload the file to your session or mount Google Drive to access the file.\n",
        "- [Uploading files](https://youtu.be/6HFlwqK3oeo?t=177)\n",
        "- [Mounting Google Drive](https://www.marktechpost.com/2019/06/07/how-to-connect-google-colab-with-google-drive/)"
      ],
      "metadata": {
        "id": "BaqH5buEgr5a"
      }
    },
    {
      "cell_type": "markdown",
      "source": [
        "# Scenario\n",
        "\n",
        "Imagine you are working for *Moogle*, a well-known tech company that receives tens of thousands of job applications from graduating seniors every year.\n",
        "\n",
        "Since the company receives too many job applications for HR to individually assess in a reasonable amount of time, you are asked to create a program that algorithmically analyzes applications and selects the ones most worth passing onto HR."
      ],
      "metadata": {
        "id": "KA3uNmSPdJqv"
      }
    },
    {
      "cell_type": "markdown",
      "source": [
        "# Applicant Data\n",
        "\n",
        "1. *Moogle* receives an overwhelming number of applications for open positions.\n",
        "\n",
        "2. So the company has designed an application form that is designed to get numerical data from applicants.\n",
        "\n",
        "3. This data is run through a screening algorithm to determine what applicants make the first-pass cut.\n",
        "\n",
        "4. Job applications must enter the grades they received in 6 core Computer Science courses, as well as their overall GPA. \n",
        "\n",
        "5. For your convenience, this will be stored in a python `list` that you can access.\n",
        "\n",
        "6. For example, a student who received the following scores...\n",
        "\n",
        "- **Intro to CS:** 100\n",
        "- **Data Structures:** 95\n",
        "- **Software Engineering:** 80\n",
        "- **Algorithms:** 89\n",
        "- **Computer Organization:** 91\n",
        "- **Operative Systems:** 75\n",
        "- **Overall College GPA:** 83\n",
        "\n",
        "7. ... would result in the following list: `[100, 95, 80, 89, 91, 75, 83]`. \n",
        "\n",
        "8. You can assume that index `0` is *always* Intro to CS, `1` is *always* Data Structures, etc.\n",
        "\n",
        "9. Because you are processing many applications, your program will receive a *list of lists*. \n",
        "\n",
        "10. For example, this would be the information for 3 applicants:\n",
        "\n",
        "`[ \n",
        "    [100, 95, 80, 89, 91, 75, 83], \n",
        "    [75, 80, 85, 90, 85, 88, 90], \n",
        "    [85, 70, 99, 100, 81, 82, 91] \n",
        " ]`"
      ],
      "metadata": {
        "id": "wsQIrap2dMFK"
      }
    },
    {
      "cell_type": "markdown",
      "source": [
        "# Objective\n",
        "\n",
        "11. Your task in this lab is to write a program that takes applicant data and automates the first-pass cut decision process.\n",
        "\n",
        "12. The first step is to determine how you are going to select top applicants.\n",
        "\n",
        "13. The underlying logic or criteria are the foundation for the Python program.\n",
        "\n",
        "14. The second step is to write a Python function or program that will return first-pass candidates based on a desired set of critera.\n"
      ],
      "metadata": {
        "id": "qttrRn86dOPy"
      }
    },
    {
      "cell_type": "markdown",
      "source": [
        "# Loading the Data\n",
        "\n",
        "15. We'll be working with two datasets for this task.\n",
        "\n",
        "16. The first is `example_list`, which contains sample data for a limited number of applicants.\n",
        "\n",
        "17. We can load that data manually.\n"
      ],
      "metadata": {
        "id": "UwGMEgXDdPcR"
      }
    },
    {
      "cell_type": "code",
      "source": [
        "example_list = [[93, 89, 63, 88, 60, 73, 80], [100, 63, 57, 96, 58, 71, 78], [81, 91, 99, 78, 57, 87, 86], [81, 73, 100, 57, 91, 60, 66], [86, 89, 64, 81, 69, 93, 92], [78, 63, 88, 95, 59, 98, 90], [55, 74, 68, 55, 69, 94, 80], [64, 77, 75, 92, 77, 72, 83], [95, 58, 92, 62, 77, 64, 59], [94, 78, 84, 83, 68, 63, 76]]\n",
        "\n",
        "example_list"
      ],
      "metadata": {
        "id": "6F2s73M1dRht"
      },
      "execution_count": null,
      "outputs": []
    },
    {
      "cell_type": "markdown",
      "source": [
        "18. The second dataset `allApps` contains randomly-generated data for 10,000 applicants.\n",
        "\n",
        "19. This data is stored in the `allApps.py` file.\n",
        "  * [Click here](https://drive.google.com/file/d/1xNty5ic9Pb_3A4eGhGkQSJZm5qb6g8GX/view?usp=sharing) to download from Google Drive.\n",
        "\n",
        "20. Then we'll need to load the data in Python.\n",
        "\n",
        "20a. If working with Jupyter Notebooks on your local computer, you'll need to move the `allApps.py` file into the same directory (folder) as the Jupyter Notebook.\n",
        "- Alternatively, you can provide the full file path.\n",
        "\n",
        "20b. If working in Google CoLab, you'll either need to upload the file to your session or mount Google Drive to access the file.\n",
        "- [Uploading files](https://youtu.be/6HFlwqK3oeo?t=177)\n",
        "- [Mounting Google Drive](https://www.marktechpost.com/2019/06/07/how-to-connect-google-colab-with-google-drive/)"
      ],
      "metadata": {
        "id": "-Aa6aANkdTSv"
      }
    },
    {
      "cell_type": "code",
      "source": [
        "# instructions for a Jupyter notebook\n",
        "%load allApps.py\n",
        "\n",
        "# check loaded data\n",
        "allApps"
      ],
      "metadata": {
        "id": "wJATiFzUdULZ"
      },
      "execution_count": null,
      "outputs": []
    },
    {
      "cell_type": "code",
      "source": [
        "# instructions for Spyder or other non-notebook IDE\n",
        "from allApps import allApps\n",
        "\n",
        "# check loaded data\n",
        "allApps"
      ],
      "metadata": {
        "id": "OFPaw44-dVW0"
      },
      "execution_count": null,
      "outputs": []
    },
    {
      "cell_type": "markdown",
      "source": [
        "21. We'll come back to this data later.\n",
        "\n",
        "# Writing the Algorithm\n",
        "\n",
        "22. Remember the format of each app:\n",
        "\n",
        "`[0]` - Intro to CS: 100\n",
        "\n",
        "`[1]` - Data Structures: 95\n",
        "\n",
        "`[2]` - Software Engineering: 80\n",
        "\n",
        "`[3]` - Algorithms: 89\n",
        "\n",
        "`[4]` - Computer Organization: 91\n",
        "\n",
        "`[5]` - Operative Systems: 75\n",
        "\n",
        "`[6]` - Overall College GPA: 83\n",
        "\n",
        "\n",
        "23. We can use the `example_list` to start with building this program.\n",
        "\n",
        "24. Let's say one of your criteria is a minimum overall college GPA of 80.\n",
        "\n",
        "25. We can write a program that uses a `for` loop, tests for the GPA field value condition, and returns only list entries that meet the condition."
      ],
      "metadata": {
        "id": "SmoGKQMkdWrl"
      }
    },
    {
      "cell_type": "code",
      "source": [
        "# create list to hold candidates who make it through first-pass cuts\n",
        "finalists = list()\n",
        "\n",
        "# for loop that takes example list, tests for GPA value\n",
        "for app in example_list: # iterates through each applicant in example_list\n",
        "  if app[6] > 80: # looks at the seventh field, overall GPA\n",
        "    finalists += [app] # adds applicants that meet this condition to the finalists lists\n",
        "    \n",
        "# show list of applicants that made it through first-pass cuts\n",
        "finalists"
      ],
      "metadata": {
        "id": "AdqfsX0rdX1z"
      },
      "execution_count": null,
      "outputs": []
    },
    {
      "cell_type": "markdown",
      "source": [
        "26. We can see from the output that, based on this criteria, four applicants would make it past the first-pass cuts.\n",
        "\n",
        "27. Another example, this time with the criteria that applicants have no grade below 65."
      ],
      "metadata": {
        "id": "voZO6FLsgwBp"
      }
    },
    {
      "cell_type": "code",
      "source": [
        "# create list to hold candidates who make it through first-pass cuts\n",
        "finalists = list()\n",
        "\n",
        "# for loop that takes example list, tests for GPA value\n",
        "for app in example_list: # iterates through each applicant in example_list\n",
        "  if app[0] > 65 and app[1] > 65 and app[2] > 65 and app[3] > 65 and app[4] > 65 and app[5] > 65: # looks at all fields and only executes next line if all conditions are met\n",
        "    finalists += [app] # adds applicants that meet this condition to the finalists lists\n",
        "    \n",
        "# show list of applicants that made it through first-pass cuts\n",
        "finalists"
      ],
      "metadata": {
        "id": "6CYI_Cmegw8F"
      },
      "execution_count": null,
      "outputs": []
    },
    {
      "cell_type": "markdown",
      "source": [
        "28. A couple sample criteria that might get you started as you write this program.\n",
        "- Applicants that have at least 4 grades above 85\n",
        "- Applicants that have an average grade above 85\n",
        "\n",
        "<blockquote>Q1: Work together to determine the cutoff points or critera for the first-pass cuts. List your criteria and describe the decision making process used to arrive at those criteria.</blockquote>\n",
        "\n",
        "<blockquote>Q2: Include code + comments for a Python program that implements your criteria.</blockquote>\n",
        "\n",
        "29. Once you have a working program using the `example_list` data, run the program on the `allApps` data.\n",
        "\n",
        "<blockquote>Q3: Roughly what percentage of applicants make it through the first-pass cuts? What are your thoughts on the effectiveness or efficacy of your algorithm? What would be your next step in continuing to develop or refine this algorithm?</blockquote>\n",
        "\n",
        "30. Code that can help you determine percentage of applicants that make it through first-pass cuts."
      ],
      "metadata": {
        "id": "Owdx3y5agyZH"
      }
    },
    {
      "cell_type": "code",
      "source": [
        "for finalist in finalists:\n",
        "    print(finalist)\n",
        "\n",
        "print(\"Your algorithm kept\", round(len(finalists)/len(allApps)*100), \"percent of applicants\")"
      ],
      "metadata": {
        "id": "xO14CpRbgzws"
      },
      "execution_count": null,
      "outputs": []
    },
    {
      "cell_type": "markdown",
      "source": [
        "# Applicant Stories\n",
        "\n",
        "31. Now that you've developed a working algorithm, let's think through how your algorithm would handle some specific applicant use cases."
      ],
      "metadata": {
        "id": "2lJpfkG5g1qa"
      }
    },
    {
      "cell_type": "markdown",
      "source": [
        "## Story 1\n",
        "\n",
        "How would your algorithm handle an excellent candidate who thought they should put in letter grades?\n",
        "- `[‘A’, ‘A’, ‘A’, ‘A’, ‘A’, ‘A’, ‘A’]`\n",
        "\n",
        "Or a candidate who entered their grades on a 4-point scale?\n",
        "- `[4, 3.9, 4, 4, 3.95, 4, 3.9]`"
      ],
      "metadata": {
        "id": "EEZ459z2g24X"
      }
    },
    {
      "cell_type": "markdown",
      "source": [
        "## Story 2\n",
        "\n",
        "How would your algorithm handle a candidate that tested out of or didn't take *Intro to Computer Science*.\n",
        "\n",
        "Or let's say this candidate saw the form and thought putting `-1` in that field would make it clear they did not take the course.\n",
        "- `[-1, 95, 99, 94, 96, 98, 95]`"
      ],
      "metadata": {
        "id": "FI9ETqNHhANW"
      }
    },
    {
      "cell_type": "markdown",
      "source": [
        "## Story 3\n",
        "\n",
        "How would your algorithm handle an applicant who mistyped one of input data points?\n",
        "\n",
        "Maybe they accidentally added or inflated a number.\n",
        "- `[681, 68, 73, 70, 81, 91, 59]`\n",
        "\n",
        "Or maybe they dropped a number.\n",
        "- `[100, 100, 100, 100, 100, 100, 10]`"
      ],
      "metadata": {
        "id": "4Rme52lwhBMi"
      }
    },
    {
      "cell_type": "markdown",
      "source": [
        "## Story 4\n",
        "\n",
        "How would your algorithm handle an applicant who had a medical emergency or personal tragedy one semester?\n",
        "- `[95, 93, 50, 91, 98, 90, 90]`"
      ],
      "metadata": {
        "id": "Ge5t9aXShCG8"
      }
    },
    {
      "cell_type": "markdown",
      "source": [
        "## Story 5\n",
        "\n",
        "How would your algorithm handle an applicant who came from an underresourced background?\n",
        "\n",
        "This applicant struggled at the beginning of college in their early courses but showed extraordinary growth by the time they graduated.\n",
        "- `[65, 75, 85, 95, 100, 100, 80]`\n",
        "\n",
        "Or an inverse trajectory- a candidate who performed well in early courses but then coasted through later coursework.\n",
        "- `[100, 100, 95, 85, 75, 65, 80]`\n",
        "\n",
        "How would your algorithm treat each of these candidates?"
      ],
      "metadata": {
        "id": "UlreWL5dhDIG"
      }
    },
    {
      "cell_type": "markdown",
      "source": [
        "## Reflection Questions\n",
        "\n",
        "32. These stories highlight the necessity of critically reflecting on the decisions made when building an algorithm, as well as possible tradeoffs.\n",
        "\n",
        "<blockquote>Q4: What systemic advantages/disadvantages are your algorithms likely to amplify?</blockquote>\n",
        "\n",
        "<blockquote>Q5: What does it mean to design a fair algorithm?</blockquote>\n",
        "\n",
        "<blockquote>Q6: What is the human cost of efficiency? More permissive algorithms may capture more interesting candidates, but it also means more costly, human work. What would an ideal balance look like?</blockquote>\n"
      ],
      "metadata": {
        "id": "QKhxHNFFhEU6"
      }
    },
    {
      "cell_type": "markdown",
      "source": [
        "# Hiring Algorithms in the Real World\n",
        "\n",
        "33. To learn more about real-world applications of the type of system we developed in this lab:\n",
        "- David Gershgorn, \"[Companies are on the hook if their hiring algorithms are biased](https://qz.com/1427621/companies-are-on-the-hook-if-their-hiring-algorithms-are-biased/)\" *Quartz* (22 October 2018)\n",
        "- Rachel Kraus, \"[Amazon used AI to promote diversity. Too bad it's plagued with gender bias.](https://mashable.com/article/amazon-sexist-recruiting-algorithm-gender-bias-ai/)\" *Mashable* (10 October 2018)\n",
        "- Gideon Mann and Cathy O'Neil, \"[Hiring Algorithms Are Not Neutral](https://hbr.org/2016/12/hiring-algorithms-are-not-neutral)\" *Harvard Business Review* (9 December 2016)\n",
        "- Claire Cain Miller, \"[Can an Algorithm Hire Better Than a Human?](https://www.nytimes.com/2015/06/26/upshot/can-an-algorithm-hire-better-than-a-human.html)\" *New York Times* (25 June 2015)\n",
        "- Aarti Shahani, \"[Now Algorithms Are Deciding Whom To Hire, Based on Voice](https://www.npr.org/sections/alltechconsidered/2015/03/23/394827451/now-algorithms-are-deciding-whom-to-hire-based-on-voice)\" *All Tech Considered* segment heard on NPR's *All Things Considered* (23 March 2015)\n",
        "- Jeffrey Dastin, \"[Amazon scraps secret AI recruiting tool that showed bias against women](https://www.reuters.com/article/us-amazon-com-jobs-automation-insight/amazon-scraps-secret-ai-recruiting-tool-that-showed-bias-against-women-idUSKCN1MK08G)\" *Reuters* (10 October 2018)"
      ],
      "metadata": {
        "id": "UqsUvuDnhFqm"
      }
    },
    {
      "cell_type": "markdown",
      "source": [
        "# Lab Notebook Questions\n",
        "\n",
        "[Click here](https://colab.research.google.com/drive/1Pi0h6-05vGShhnsU1cgkINPlIbmKlPXI?usp=sharing) to access lab notebook template as a Jupyter Notebook.\n",
        "\n",
        "Q1: Work together to determine the cutoff points or critera for the first-pass cuts. List your criteria and describe the decision making process used to arrive at those criteria.\n",
        "\n",
        "Q2: Include code + comments for a Python program that implements your criteria.\n",
        "\n",
        "Q3: Roughly what percentage of applicants make it through the first-pass cuts? What are your thoughts on the effectiveness or efficacy of your algorithm? What would be your next step in continuing to develop or refine this algorithm?\n",
        "\n",
        "Q4: What systemic advantages/disadvantages are your algorithms likely to amplify?\n",
        "\n",
        "Q5: What does it mean to design a fair algorithm?\n",
        "\n",
        "Q6: What is the human cost of efficiency? More permissive algorithms may capture more interesting candidates, but it also means more costly, human work. What would an ideal balance look like?"
      ],
      "metadata": {
        "id": "8Qbv1A2IhIB6"
      }
    }
  ]
}