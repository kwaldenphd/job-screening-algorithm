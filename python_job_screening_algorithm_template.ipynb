{
  "nbformat": 4,
  "nbformat_minor": 0,
  "metadata": {
    "colab": {
      "name": "python-job-screening-algorithm-template.ipynb",
      "provenance": [],
      "toc_visible": true,
      "authorship_tag": "ABX9TyPhRseELyVAaNgu6m3vI1Ne",
      "include_colab_link": true
    },
    "kernelspec": {
      "name": "python3",
      "display_name": "Python 3"
    },
    "language_info": {
      "name": "python"
    }
  },
  "cells": [
    {
      "cell_type": "markdown",
      "metadata": {
        "id": "view-in-github",
        "colab_type": "text"
      },
      "source": [
        "<a href=\"https://colab.research.google.com/github/kwaldenphd/job-screening-algorithm/blob/main/python_job_screening_algorithm_template.ipynb\" target=\"_parent\"><img src=\"https://colab.research.google.com/assets/colab-badge.svg\" alt=\"Open In Colab\"/></a>"
      ]
    },
    {
      "cell_type": "markdown",
      "source": [
        "# Building a Job Screening Algorithm in Python\n",
        "\n",
        "Student name(s): **Enter your name here** (double click to edit)"
      ],
      "metadata": {
        "id": "cCPjTHZS4udx"
      }
    },
    {
      "cell_type": "markdown",
      "source": [
        "## Lab Notebook Questions"
      ],
      "metadata": {
        "id": "YMLv_23-ZQ56"
      }
    },
    {
      "cell_type": "markdown",
      "source": [
        "### **Q1: Work together to determine the cutoff points or critera for the first-pass cuts. List your criteria and describe the decision making process used to arrive at those criteria.**"
      ],
      "metadata": {
        "id": "TU8VdOenZTLj"
      }
    },
    {
      "cell_type": "markdown",
      "source": [
        "**Answer Q1:** Your answer here (double click to edit)\n",
        "\n"
      ],
      "metadata": {
        "id": "ZRftVHWIWMrC"
      }
    },
    {
      "cell_type": "code",
      "source": [
        "# space for Q1 code (if needed, double click to edit)"
      ],
      "metadata": {
        "id": "dVk8oZzhXy4f"
      },
      "execution_count": null,
      "outputs": []
    },
    {
      "cell_type": "markdown",
      "source": [
        "### **Q2: Include code + comments for a Python program that implements your criteria.**"
      ],
      "metadata": {
        "id": "wi8wDdoK5Lny"
      }
    },
    {
      "cell_type": "markdown",
      "source": [
        "**Answer Q2:** Your answer here (double click to edit)\n",
        "\n"
      ],
      "metadata": {
        "id": "WOQNw6gR5PYA"
      }
    },
    {
      "cell_type": "code",
      "source": [
        "# space for Q2 code (double click to edit)"
      ],
      "metadata": {
        "id": "A7mqUC6Q5R6Z"
      },
      "execution_count": null,
      "outputs": []
    },
    {
      "cell_type": "markdown",
      "source": [
        "### **Q3: Roughly what percentage of applicants make it through the first-pass cuts? What are your thoughts on the effectiveness or efficacy of your algorithm? What would be your next step in continuing to develop or refine this algorithm?**"
      ],
      "metadata": {
        "id": "XMLlo5eQ5Vs0"
      }
    },
    {
      "cell_type": "markdown",
      "source": [
        "**Answer Q3:** Your answer here (double click to edit)\n",
        "\n"
      ],
      "metadata": {
        "id": "50Tj8PK05WZk"
      }
    },
    {
      "cell_type": "code",
      "source": [
        "# space for Q3 code (double click to edit)"
      ],
      "metadata": {
        "id": "UM0e2ArC5XOO"
      },
      "execution_count": null,
      "outputs": []
    },
    {
      "cell_type": "markdown",
      "source": [
        "### **Q4: What systemic advantages/disadvantages are your algorithms likely to amplify?**"
      ],
      "metadata": {
        "id": "iaqOqUUk5fUo"
      }
    },
    {
      "cell_type": "markdown",
      "source": [
        "**Answer Q4:** Your answer here (double click to edit)\n",
        "\n"
      ],
      "metadata": {
        "id": "nKgHLXGG5f6u"
      }
    },
    {
      "cell_type": "code",
      "source": [
        "# space for Q4 code (double click to edit)"
      ],
      "metadata": {
        "id": "BYRd09Sc5gaf"
      },
      "execution_count": null,
      "outputs": []
    },
    {
      "cell_type": "markdown",
      "source": [
        "### **Q5: What does it mean to design a fair algorithm?**"
      ],
      "metadata": {
        "id": "rSBBTMKK5pnn"
      }
    },
    {
      "cell_type": "markdown",
      "source": [
        "**Answer Q5:** Your answer here (double click to edit)"
      ],
      "metadata": {
        "id": "7r2gSavDYR4j"
      }
    },
    {
      "cell_type": "code",
      "source": [
        "# space for Q5 code (double click to edit)"
      ],
      "metadata": {
        "id": "k7QAuLOt53Tm"
      },
      "execution_count": null,
      "outputs": []
    },
    {
      "cell_type": "markdown",
      "source": [
        "### **Q6: What is the human cost of efficiency? More permissive algorithms may capture more interesting candidates, but it also means more costly, human work. What would an ideal balance look like?**"
      ],
      "metadata": {
        "id": "qLJ4OUvWaywX"
      }
    },
    {
      "cell_type": "markdown",
      "source": [
        "**Answer Q6:** Your answer here (double click to edit)"
      ],
      "metadata": {
        "id": "HV-7njeKaz-h"
      }
    },
    {
      "cell_type": "code",
      "source": [
        "# space for Q6 code (double click to edit)"
      ],
      "metadata": {
        "id": "aX_8vGfXa2kX"
      },
      "execution_count": null,
      "outputs": []
    }
  ]
}